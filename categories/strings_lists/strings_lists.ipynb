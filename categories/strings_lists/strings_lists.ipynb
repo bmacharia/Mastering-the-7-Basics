{
 "cells": [
  {
   "cell_type": "code",
   "execution_count": null,
   "metadata": {},
   "outputs": [],
   "source": []
  },
  {
   "cell_type": "markdown",
   "metadata": {},
   "source": [
    "# First Look at Lists and Strings"
   ]
  },
  {
   "cell_type": "code",
   "execution_count": null,
   "metadata": {},
   "outputs": [],
   "source": []
  },
  {
   "cell_type": "code",
   "execution_count": null,
   "metadata": {},
   "outputs": [
    {
     "name": "stdout",
     "output_type": "stream",
     "text": [
      "one\n",
      "five\n",
      "['three', 'four']\n"
     ]
    }
   ],
   "source": [
    "my_list = [\"one\", \"two\", \"three\", \"four\", \"five\"]\n",
    "print(my_list[0])\n",
    "# this should print the last item in the list\n",
    "print(my_list[-1])\n",
    "# python list are zero indexed the first item is at index 0\n",
    "print(my_list[2:4])\n",
    "\n",
    "# this for loop iterates over each item in the list and counts the number of \"o\" in each item\n",
    "for num in my_list:\n",
    "    if num.count(\"o\") > 0:\n",
    "        print(num)\n"
   ]
  }
 ],
 "metadata": {
  "kernelspec": {
   "display_name": ".venv",
   "language": "python",
   "name": "python3"
  },
  "language_info": {
   "codemirror_mode": {
    "name": "ipython",
    "version": 3
   },
   "file_extension": ".py",
   "mimetype": "text/x-python",
   "name": "python",
   "nbconvert_exporter": "python",
   "pygments_lexer": "ipython3",
   "version": "3.10.12"
  }
 },
 "nbformat": 4,
 "nbformat_minor": 2
}
